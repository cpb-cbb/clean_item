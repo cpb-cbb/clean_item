{
 "cells": [
  {
   "cell_type": "code",
   "execution_count": 6,
   "id": "25cde793",
   "metadata": {},
   "outputs": [],
   "source": [
    "import pandas as pd"
   ]
  },
  {
   "cell_type": "code",
   "execution_count": 7,
   "id": "5a041fd9",
   "metadata": {},
   "outputs": [
    {
     "name": "stderr",
     "output_type": "stream",
     "text": [
      "/var/folders/6m/v7b0ncfx1rz2xq3ffw1jfqp80000gn/T/ipykernel_69544/371090696.py:1: DtypeWarning: Columns (0) have mixed types. Specify dtype option on import or set low_memory=False.\n",
      "  data =pd.read_csv('property_clusters_output_secondary.csv')\n"
     ]
    }
   ],
   "source": [
    "data =pd.read_csv('property_clusters_output_secondary.csv')"
   ]
  },
  {
   "cell_type": "code",
   "execution_count": 8,
   "id": "e00cbf53",
   "metadata": {},
   "outputs": [
    {
     "name": "stdout",
     "output_type": "stream",
     "text": [
      "Original DataFrame:\n",
      "       cluster_id  cluster_total_frequency  member_count  \\\n",
      "0               1                   110492           114   \n",
      "1               1                   110492           114   \n",
      "2               1                   110492           114   \n",
      "3               1                   110492           114   \n",
      "4               1                   110492           114   \n",
      "...           ...                      ...           ...   \n",
      "339514     Others                   224760        131675   \n",
      "339515     Others                   224760        131675   \n",
      "339516     Others                   224760        131675   \n",
      "339517     Others                   224760        131675   \n",
      "339518     Others                   224760        131675   \n",
      "\n",
      "                                                 property   count  \n",
      "0                                               Thickness  108547  \n",
      "1                                             Thicknesses     167  \n",
      "2                                         Total Thickness     538  \n",
      "3                                         Total thickness     101  \n",
      "4                                       Thickness (total)       4  \n",
      "...                                                   ...     ...  \n",
      "339514      Crystal quality correlation with luminescence       1  \n",
      "339515  Growth domain structure correlation with lumin...       1  \n",
      "339516                C 1s XPS Peak (Adventitious Carbon)       1  \n",
      "339517                  C 1s XPS Peak (Graphite-like C-C)       1  \n",
      "339518  C 1s XPS Peak (Depth Profile after Ar+ Sputter...       1  \n",
      "\n",
      "[339519 rows x 5 columns]\n",
      "\n",
      "🔍 Searching for properties containing: Point Defect|Line Defect|Planar Defect|Volume Defect|0D Defect|1D Defect|2D Defect|3D Defect|Vacancy|Interstitial|Antisite|Substitutional|Dislocation|Stacking Fault|Grain Boundary|Twin Boundary|Frenkel Defect|Schottky Defect|Void|Precipitate|Cluster|V_Ga|V_As|Ga_As|As_Ga|Ga_i|As_i|Si_Ga|Si_As|C_As|V_In|V_P|V_N|Formation Energy|Transition Level|Charge State|Migration Barrier|Binding Energy|Burgers Vector|Dislocation Density|Defect Concentration|Carrier Capture Cross-Section|Ionization Energy|Local Vibrational Mode|Atomic Displacements|Donor|Acceptor|Deep Level|Shallow Level|Recombination Center|Electron Trap|Hole Trap|Amphoteric|DX Center|EL2\n"
     ]
    }
   ],
   "source": [
    "import pandas as pd\n",
    "import io\n",
    "\n",
    "\n",
    "df = data\n",
    "print(\"Original DataFrame:\")\n",
    "print(df)\n",
    "# 2. Define Keywords and Filter\n",
    "keywords = [\n",
    "  \"Point Defect\", \"Line Defect\", \"Planar Defect\", \"Volume Defect\",\n",
    "  \"0D Defect\", \"1D Defect\", \"2D Defect\", \"3D Defect\", \"Vacancy\", \n",
    "  \"Interstitial\", \"Antisite\", \"Substitutional\", \"Dislocation\", \n",
    "  \"Stacking Fault\", \"Grain Boundary\", \"Twin Boundary\", \"Frenkel Defect\", \n",
    "  \"Schottky Defect\", \"Void\", \"Precipitate\", \"Cluster\", \"V_Ga\", \"V_As\", \n",
    "  \"Ga_As\", \"As_Ga\", \"Ga_i\", \"As_i\", \"Si_Ga\", \"Si_As\", \"C_As\", \"V_In\", \n",
    "  \"V_P\", \"V_N\", \"Formation Energy\", \"Transition Level\", \"Charge State\", \n",
    "  \"Migration Barrier\", \"Binding Energy\", \"Burgers Vector\", \n",
    "  \"Dislocation Density\", \"Defect Concentration\", \n",
    "  \"Carrier Capture Cross-Section\", \"Ionization Energy\", \n",
    "  \"Local Vibrational Mode\", \"Atomic Displacements\", \"Donor\", \"Acceptor\", \n",
    "  \"Deep Level\", \"Shallow Level\", \"Recombination Center\", \"Electron Trap\", \n",
    "  \"Hole Trap\", \"Amphoteric\", \"DX Center\", \"EL2\"\n",
    "]\n",
    "search_pattern = '|'.join(keywords)\n",
    "print(f\"\\n🔍 Searching for properties containing: {search_pattern}\")\n",
    "matching_rows = df[df['property'].str.contains(search_pattern, case=False, na=False)]\n",
    "# 3. Extract Unique Cluster IDs\n",
    "matching_cluster_ids = matching_rows['cluster_id'].unique().tolist()\n",
    "# 保存相应的cluster_id的行到新的CSV文件，去除cluster_id=Others\n",
    "matching_rows = df[df['cluster_id'].isin(matching_cluster_ids) & (df['cluster_id'] != 'Others')]\n",
    "output_file = 'matching_clusters.csv'\n",
    "matching_rows.to_csv(output_file, index=False)"
   ]
  },
  {
   "cell_type": "code",
   "execution_count": null,
   "id": "da6b22dc",
   "metadata": {},
   "outputs": [],
   "source": [
    "#"
   ]
  }
 ],
 "metadata": {
  "kernelspec": {
   "display_name": "llm_extra",
   "language": "python",
   "name": "python3"
  },
  "language_info": {
   "codemirror_mode": {
    "name": "ipython",
    "version": 3
   },
   "file_extension": ".py",
   "mimetype": "text/x-python",
   "name": "python",
   "nbconvert_exporter": "python",
   "pygments_lexer": "ipython3",
   "version": "3.10.15"
  }
 },
 "nbformat": 4,
 "nbformat_minor": 5
}
